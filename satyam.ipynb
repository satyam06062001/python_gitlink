{
 "cells": [
  {
   "cell_type": "markdown",
   "metadata": {},
   "source": [
    "# 1.Create the empty list and ask user to enters only int, float elements in the list."
   ]
  },
  {
   "cell_type": "code",
   "execution_count": 2,
   "metadata": {},
   "outputs": [],
   "source": [
    "empt = []\n",
    "def inp():\n",
    "\n",
    "    while True:\n",
    "        t = input(\"enter int or float number\")\n",
    "        if t == 'no':\n",
    "            break\n",
    "        else:\n",
    "            try:\n",
    "                if t.isnumeric():\n",
    "                    empt.append(int(t))\n",
    "                else:\n",
    "                    empt.append(float(t))\n",
    "            except:\n",
    "                print(\"wrogn data type\")\n"
   ]
  },
  {
   "cell_type": "markdown",
   "metadata": {},
   "source": [
    "# 2.Create a empty dictionary d1 ask user to enter the values using loop"
   ]
  },
  {
   "cell_type": "code",
   "execution_count": 3,
   "metadata": {},
   "outputs": [],
   "source": [
    "d1 = {}\n",
    "\n",
    "def u_inp():\n",
    "    try:\n",
    "        te = int(input(\"enter the number of inputs\"))\n",
    "        d1['values:']=[]\n",
    "        for i in range(te):\n",
    "            d1['values:'].append(input(\"enter the values\"))\n",
    "\n",
    "    except:\n",
    "        print(\"error in code\")\n",
    "        "
   ]
  },
  {
   "cell_type": "markdown",
   "metadata": {},
   "source": [
    "#### 3.Create a empty dictionary d1 ask user to enter the values using comprehensive list"
   ]
  },
  {
   "cell_type": "code",
   "execution_count": 4,
   "metadata": {},
   "outputs": [],
   "source": [
    "d1 = {}\n",
    "\n",
    "try:\n",
    "    a = int(input(\"enter the range\"))\n",
    "    keys = [ input(\"enter the keys\") for i in range(a)]\n",
    "    values = [ input(\"enter the values\") for i in range(a)]\n",
    "    d1.update(dict(zip(keys,values)))\n",
    "    pass\n",
    "except:\n",
    "    pass"
   ]
  },
  {
   "cell_type": "markdown",
   "metadata": {},
   "source": [
    "#### 4.Create a function which will accept two integer or float parameter from user and return 4 arithmetic operations in the form of tuple. If user pass argument other than integer and float then error should be created."
   ]
  },
  {
   "cell_type": "code",
   "execution_count": 37,
   "metadata": {},
   "outputs": [],
   "source": [
    "def accept():\n",
    "    try:\n",
    "        a = input(\"enter 1st number\")\n",
    "        b = input(\"enter 2nd number\")\n",
    "        if a.isnumeric() and b.isnumeric():\n",
    "            a= int(a)\n",
    "            b=int(b)\n",
    "            return{'add':a+b,\"sub\":a-b,\"mul\":a*b,\"div\":a/b}\n",
    "        else:\n",
    "            a = float(a)\n",
    "            b = float(b)\n",
    "            return{'add':a+b,\"sub\":a-b,\"mul\":a*b,\"div\":a/b}\n",
    "            \n",
    "    except Exception as e:\n",
    "        print(e)\n",
    "\n",
    "\n"
   ]
  },
  {
   "cell_type": "code",
   "execution_count": 38,
   "metadata": {},
   "outputs": [
    {
     "data": {
      "text/plain": [
       "{'add': 6, 'sub': 2, 'mul': 8, 'div': 2.0}"
      ]
     },
     "execution_count": 38,
     "metadata": {},
     "output_type": "execute_result"
    }
   ],
   "source": [
    "accept()"
   ]
  },
  {
   "cell_type": "markdown",
   "metadata": {},
   "source": [
    "#### 5. Based on the above function (Question number 4) dived the outcome of multiplication by 2. "
   ]
  },
  {
   "cell_type": "code",
   "execution_count": 39,
   "metadata": {},
   "outputs": [
    {
     "data": {
      "text/plain": [
       "4.0"
      ]
     },
     "execution_count": 39,
     "metadata": {},
     "output_type": "execute_result"
    }
   ],
   "source": [
    "accept()[\"mul\"]/2"
   ]
  },
  {
   "cell_type": "markdown",
   "metadata": {},
   "source": [
    "#### 6.create a function to add only string element in a list. if other than string display the appropriate message."
   ]
  },
  {
   "cell_type": "code",
   "execution_count": 40,
   "metadata": {},
   "outputs": [],
   "source": [
    "stri = []\n",
    "def is_str():\n",
    "    try:\n",
    "        a = input(\"enter the values\")\n",
    "        if a.isalpha():\n",
    "            stri.append(a)\n",
    "        else:\n",
    "            raise Exception(\"only strings allowed\")\n",
    "    except Exception as e:\n",
    "        print(e)\n"
   ]
  },
  {
   "cell_type": "code",
   "execution_count": 42,
   "metadata": {},
   "outputs": [
    {
     "name": "stdout",
     "output_type": "stream",
     "text": [
      "only strings allowed\n"
     ]
    }
   ],
   "source": [
    "is_str()"
   ]
  },
  {
   "cell_type": "markdown",
   "metadata": {},
   "source": [
    "#### 7.Create a function to read the file and return the dictionary of total lines, total words"
   ]
  },
  {
   "cell_type": "code",
   "execution_count": 19,
   "metadata": {},
   "outputs": [],
   "source": [
    "def re_file(file):\n",
    "    try:\n",
    "        t = open(file,'r')\n",
    "        words = t.read().split()\n",
    "        t.seek(0)\n",
    "        lines = t.readlines()\n",
    "        return {\"words\":len(words),\"lines\":len(lines)}\n",
    "    except Exception:\n",
    "        print(Exception)\n",
    "        "
   ]
  },
  {
   "cell_type": "code",
   "execution_count": 20,
   "metadata": {},
   "outputs": [
    {
     "data": {
      "text/plain": [
       "{'words': 7, 'lines': 4}"
      ]
     },
     "execution_count": 20,
     "metadata": {},
     "output_type": "execute_result"
    }
   ],
   "source": [
    "re_file('t.txt')"
   ]
  },
  {
   "cell_type": "markdown",
   "metadata": {},
   "source": [
    "#### 8.Create a function which will accept the dictionary and display key values in separate line."
   ]
  },
  {
   "cell_type": "code",
   "execution_count": 51,
   "metadata": {},
   "outputs": [],
   "source": [
    "def dict_(**n):\n",
    "    try:\n",
    "        for i in n:\n",
    "            print(f\"key : {i}\")\n",
    "            print(f\"value : {n[i]}\")\n",
    "    except :\n",
    "        print(\"error\")"
   ]
  },
  {
   "cell_type": "code",
   "execution_count": 52,
   "metadata": {},
   "outputs": [
    {
     "name": "stdout",
     "output_type": "stream",
     "text": [
      "key : a\n",
      "value : 12\n",
      "key : b\n",
      "value : 10\n"
     ]
    }
   ],
   "source": [
    "dict_(**{'a':12,\"b\":10})"
   ]
  },
  {
   "cell_type": "markdown",
   "metadata": {},
   "source": [
    "#### 9.Create a lambda function which will accept the dictionary and display key values in separate line."
   ]
  },
  {
   "cell_type": "code",
   "execution_count": 56,
   "metadata": {},
   "outputs": [],
   "source": [
    "a = lambda **x : print(f\"{x.keys()} \\n {x.values()}\")"
   ]
  },
  {
   "cell_type": "code",
   "execution_count": 57,
   "metadata": {},
   "outputs": [
    {
     "name": "stdout",
     "output_type": "stream",
     "text": [
      "dict_keys(['a', 'b']) \n",
      " dict_values([12, 13])\n"
     ]
    }
   ],
   "source": [
    "a(**{\"a\":12,\"b\":13})"
   ]
  },
  {
   "cell_type": "markdown",
   "metadata": {},
   "source": [
    "#### 10.Create a function to validate the password: password should contains at least one small letter, one capital letter, one number, and one special character except comma, quotes"
   ]
  },
  {
   "cell_type": "code",
   "execution_count": 62,
   "metadata": {},
   "outputs": [],
   "source": [
    "import re\n",
    "def valid():\n",
    "    while True:\n",
    "        a = input(\"password\")\n",
    "        if re.fullmatch(\"(?=.*[A-Za-z])(?=.*[0-9])(?=.*[!@#$%^&*()])[A-za-z0-9!@#$%^&*()]{8,}\",a):\n",
    "            return a\n",
    "        else:\n",
    "            print(\"invalid format retry\")\n",
    "    \n",
    "    \n"
   ]
  },
  {
   "cell_type": "code",
   "execution_count": 64,
   "metadata": {},
   "outputs": [
    {
     "name": "stdout",
     "output_type": "stream",
     "text": [
      "invalid format retry\n",
      "invalid format retry\n"
     ]
    },
    {
     "data": {
      "text/plain": [
       "'Rughwed30@'"
      ]
     },
     "execution_count": 64,
     "metadata": {},
     "output_type": "execute_result"
    }
   ],
   "source": [
    "valid()"
   ]
  },
  {
   "cell_type": "code",
   "execution_count": 65,
   "metadata": {},
   "outputs": [],
   "source": [
    "def decor(fnc):\n",
    "    def wrap(a):\n",
    "        if type(a)==int and a>0:\n",
    "            return fnc(a)\n",
    "        else:\n",
    "            print(\"not a prime number\")\n",
    "    return wrap"
   ]
  },
  {
   "cell_type": "code",
   "execution_count": 69,
   "metadata": {},
   "outputs": [],
   "source": [
    "@decor\n",
    "def fact(n):\n",
    "    fac=1\n",
    "    for i in range(1,n+1):\n",
    "        fac *=i\n",
    "    return fac"
   ]
  },
  {
   "cell_type": "code",
   "execution_count": 71,
   "metadata": {},
   "outputs": [
    {
     "name": "stdout",
     "output_type": "stream",
     "text": [
      "not a prime number\n"
     ]
    }
   ],
   "source": [
    "fact(-1)"
   ]
  },
  {
   "cell_type": "markdown",
   "metadata": {},
   "source": [
    "#### 12.Generate the decorator for a Garden visit to check if current time is between 7am to 7pm.  If true the only call the function else generate the error. "
   ]
  },
  {
   "cell_type": "code",
   "execution_count": 80,
   "metadata": {},
   "outputs": [],
   "source": [
    "import datetime as dt"
   ]
  },
  {
   "cell_type": "code",
   "execution_count": 84,
   "metadata": {},
   "outputs": [
    {
     "data": {
      "text/plain": [
       "int"
      ]
     },
     "execution_count": 84,
     "metadata": {},
     "output_type": "execute_result"
    }
   ],
   "source": [
    "type(dt.datetime.now().time().hour)"
   ]
  },
  {
   "cell_type": "code",
   "execution_count": 88,
   "metadata": {},
   "outputs": [],
   "source": [
    "\n",
    "def graden(fnc):\n",
    "    def wrap():\n",
    "        n = dt.datetime.now().time().hour\n",
    "        if n >= 7 and n< 21:\n",
    "            return(fnc)\n",
    "        else:\n",
    "            print(\"garden closed\")\n",
    "    return wrap"
   ]
  },
  {
   "cell_type": "code",
   "execution_count": 89,
   "metadata": {},
   "outputs": [],
   "source": [
    "@graden\n",
    "def welcome():\n",
    "    print(\"welcome to great garden\")"
   ]
  },
  {
   "cell_type": "code",
   "execution_count": 90,
   "metadata": {},
   "outputs": [
    {
     "name": "stdout",
     "output_type": "stream",
     "text": [
      "garden closed\n"
     ]
    }
   ],
   "source": [
    "welcome()"
   ]
  },
  {
   "cell_type": "markdown",
   "metadata": {},
   "source": []
  },
  {
   "cell_type": "markdown",
   "metadata": {},
   "source": [
    "#### 13.Create lambda function for sorting of the string"
   ]
  },
  {
   "cell_type": "code",
   "execution_count": 133,
   "metadata": {},
   "outputs": [],
   "source": [
    "a = lambda a : \"\".join(sorted(\" \".join(a).split()))"
   ]
  },
  {
   "cell_type": "code",
   "execution_count": 134,
   "metadata": {},
   "outputs": [
    {
     "data": {
      "text/plain": [
       "'DEGRUV'"
      ]
     },
     "execution_count": 134,
     "metadata": {},
     "output_type": "execute_result"
    }
   ],
   "source": [
    "a(\"RUGVED\")"
   ]
  },
  {
   "cell_type": "markdown",
   "metadata": {},
   "source": [
    "#### 15.Create a decorator to check if all input values are alpha numeric and based on it check PAN detail  AAAAA1111X , rec.no   first 3 chr next 5 number "
   ]
  },
  {
   "cell_type": "code",
   "execution_count": 156,
   "metadata": {},
   "outputs": [],
   "source": [
    "def deco(fnc):\n",
    "    def wrap(a):\n",
    "        if a.isalnum():\n",
    "            return fnc(a)\n",
    "        else:\n",
    "            print(\"wrong format\")\n",
    "    return wrap"
   ]
  },
  {
   "cell_type": "code",
   "execution_count": 157,
   "metadata": {},
   "outputs": [],
   "source": [
    "@deco\n",
    "def vali_pan(a):\n",
    "    if re.fullmatch(\"[A-Z]{5}[0-9]{4}[A-Z]{1}\",a):\n",
    "        return a"
   ]
  },
  {
   "cell_type": "code",
   "execution_count": 159,
   "metadata": {},
   "outputs": [
    {
     "data": {
      "text/plain": [
       "'AAAAA1234A'"
      ]
     },
     "execution_count": 159,
     "metadata": {},
     "output_type": "execute_result"
    }
   ],
   "source": [
    "vali_pan(input(\"pancard\"))"
   ]
  },
  {
   "cell_type": "markdown",
   "metadata": {},
   "source": [
    "#### 16.Accept 2 values from user and perform all arithmetic operations and return all"
   ]
  },
  {
   "cell_type": "code",
   "execution_count": 164,
   "metadata": {},
   "outputs": [],
   "source": [
    "def maths():\n",
    "    try:\n",
    "        a = float(input(\"enter 1st number\"))\n",
    "        b = float(input(\"enter 2nd number\"))\n",
    "        return (a+b,a-b,a*b,a/b)\n",
    "    except :\n",
    "        print(\"only numbers allowed\")"
   ]
  },
  {
   "cell_type": "code",
   "execution_count": 165,
   "metadata": {},
   "outputs": [
    {
     "data": {
      "text/plain": [
       "(6.3, 2.3, 8.6, 2.15)"
      ]
     },
     "execution_count": 165,
     "metadata": {},
     "output_type": "execute_result"
    }
   ],
   "source": [
    "maths()"
   ]
  },
  {
   "cell_type": "markdown",
   "metadata": {},
   "source": [
    "#### 17.Ask user to enter any 3 input e.g name, marks , mobile_num\n",
    "if name is with other special characters then it should not not ask for next makrs input\n",
    "   \tnote: \n",
    "oCreate separate functions for validation of every variable \n",
    "oEvery single block should have proper exception\n",
    "oEvery function must have the docstring\n",
    "oOnce the validation is done dictionary has to be created and store the dictionary to one txt file"
   ]
  },
  {
   "cell_type": "code",
   "execution_count": null,
   "metadata": {},
   "outputs": [],
   "source": [
    "\n",
    "def valid_name(n):\n",
    "    ''' take string as input and validates if \n",
    "    only aplhabets are present'''\n",
    "    if n.isalpha():\n",
    "        return n\n",
    "\n",
    "def mark_v(m):\n",
    "    ''' take string as input and validates if \n",
    "    only numbers are present are present'''\n",
    "    try:\n",
    "        return float(m)\n",
    "    except Exception as e:\n",
    "        return e\n",
    "    \n",
    "def Mob(mob):\n",
    "    ''' take string as input and validates if \n",
    "    only numbers are present are present'''\n",
    "    if len(mob) == 10 and mob.isnumeric():\n",
    "        return mob\n",
    "\n",
    "def file_h(**b):\n",
    "    ''' take dictionary as input and add\n",
    "    content of dctionary in t.txt'''\n",
    "    try:\n",
    "        a = open(\"t.txt\",\"a\")\n",
    "        a.write(f\"Name : {b[\"name\"]} Marks : {b[\"Marks\"]} Mobile : {b[\"mobile\"]}\")\n",
    "        a.close()\n",
    "    except:\n",
    "        print(\"error in file handling\")"
   ]
  },
  {
   "cell_type": "code",
   "execution_count": null,
   "metadata": {},
   "outputs": [],
   "source": [
    "def inpu():\n",
    "    ''' ask user for name,marks and mobile number\n",
    "    and returns dictionary'''\n",
    "    \n",
    "    try:\n",
    "        name=input(\"enter the name\")\n",
    "        if valid_name(name):\n",
    "            marks = input(\"enter the marks\")\n",
    "            if mark_v(marks):\n",
    "                mobile = input(\"enter the number\")\n",
    "                if Mob(mobile):\n",
    "                    return {\"name\":name,\"Marks\":marks,\"mobile\":mobile}\n",
    "                else:\n",
    "                    raise Exception(\"wrong mobile format\")\n",
    "            else:\n",
    "                raise Exception(\"wrong marks format\")\n",
    "        else:\n",
    "                raise Exception(\"wrong name format\")\n",
    "    except Exception as e:\n",
    "         print(e)"
   ]
  },
  {
   "cell_type": "code",
   "execution_count": 206,
   "metadata": {},
   "outputs": [],
   "source": [
    "file_h(**inpu())"
   ]
  },
  {
   "cell_type": "markdown",
   "metadata": {},
   "source": [
    "#### 18.Segregate file in small , medium and large size in different folder\n",
    "ofilesize less than and equal to 10KB is small file\n",
    "ofilesize more than 10 KB is the medium file\n",
    "ofilesize more than 40 kb is the large file\n",
    "ocreate the log file "
   ]
  },
  {
   "cell_type": "code",
   "execution_count": null,
   "metadata": {},
   "outputs": [],
   "source": [
    "def exc_han(fnc):\n",
    "    def wrap(*a, **s):\n",
    "        try:\n",
    "            return fnc(*a, **s)  \n",
    "        except Exception:\n",
    "            print(sys.exc_info()) \n",
    "    return wrap"
   ]
  },
  {
   "cell_type": "code",
   "execution_count": null,
   "metadata": {},
   "outputs": [],
   "source": [
    "import os\n",
    "import shutil\n",
    "import sys\n",
    "@exc_han\n",
    "def seg_file(folder):\n",
    "  try:  \n",
    "    dest1 = \"C:\\\\Users\\\\Admin\\\\Desktop\\\\file1\"\n",
    "    dest2 = \"C:\\\\Users\\\\Admin\\\\Desktop\\\\file2\"\n",
    "    dest3 = \"C:\\\\Users\\\\Admin\\\\Desktop\\\\file3\"\n",
    "\n",
    "    for i in os.listdir(folder):\n",
    "        file_path = \"C:\\\\Users\\\\Admin\\\\Desktop\\\\sample3\\\\\"+i \n",
    "\n",
    "        file_size_kb = os.stat(file_path).st_size \n",
    "\n",
    "        if os.path.isdir(file_path):\n",
    "            for i in os.listdir(file_path):\n",
    "                nest = file_path+\"\\\\\"+i\n",
    "\n",
    "                file_size_kb2 = os.stat(nest).st_size \n",
    "                \n",
    "                if file_size_kb2/1000 >=0 and file_size_kb2/1000<=10:\n",
    "                    shutil.copy(nest, dest1)\n",
    "                    print(f\"filename:{file_path:<50} filesize:{file_size_kb2/1000:<20}  file1 \")\n",
    "                elif file_size_kb2/1000 > 10 and file_size_kb2/1000 <=40:\n",
    "                    shutil.copy(nest, dest2)\n",
    "                    print(f\"filename:{file_path:<50} filesize:{file_size_kb2/1000:<20}  file2 \")\n",
    "                elif file_size_kb2/1000 > 40:\n",
    "                    shutil.copy(nest, dest3)\n",
    "                    print(f\"filename:{file_path:<50} filesize:{file_size_kb2/1000:<20}  file3 \")\n",
    "\n",
    "\n",
    "        elif file_size_kb/1000 >=0 and file_size_kb/1000<=1:\n",
    "            shutil.copy(file_path, dest1)\n",
    "            print(f\"filename:{file_path:<50} filesize:{file_size_kb/1000:<20}  file1 \")\n",
    "        elif file_size_kb/1000 > 1 and file_size_kb/1000 <=5:\n",
    "            shutil.copy(file_path, dest2)\n",
    "            print(f\"filename:{file_path:<50} filesize:{file_size_kb/1000:<20}  file2 \")\n",
    "        elif file_size_kb/1000 > 5:\n",
    "            shutil.copy(file_path, dest3)\n",
    "            print(f\"filename:{file_path:<50} filesize:{file_size_kb/1000:<20}  file3 \")\n",
    "  except:\n",
    "      print(sys.exc_info())\n"
   ]
  },
  {
   "cell_type": "code",
   "execution_count": 89,
   "metadata": {},
   "outputs": [
    {
     "name": "stdout",
     "output_type": "stream",
     "text": [
      "filename:C:\\Users\\Admin\\Desktop\\sample3\\abc.txt             filesize:0.01                  file1 \n",
      "filename:C:\\Users\\Admin\\Desktop\\sample3\\act1.ipynb          filesize:2.096                 file2 \n",
      "filename:C:\\Users\\Admin\\Desktop\\sample3\\act1_2.ipynb        filesize:3.4                   file2 \n",
      "filename:C:\\Users\\Admin\\Desktop\\sample3\\act1_2.txt          filesize:0.0                   file1 \n",
      "filename:C:\\Users\\Admin\\Desktop\\sample3\\act3.ipynb          filesize:1.476                 file2 \n",
      "filename:C:\\Users\\Admin\\Desktop\\sample3\\bill.ipynb          filesize:1.552                 file2 \n",
      "filename:C:\\Users\\Admin\\Desktop\\sample3\\class.ipynb         filesize:2.819                 file2 \n",
      "filename:C:\\Users\\Admin\\Desktop\\sample3\\cut.txt             filesize:0.0                   file1 \n",
      "filename:C:\\Users\\Admin\\Desktop\\sample3\\decorators.ipynb    filesize:2.124                 file2 \n",
      "filename:C:\\Users\\Admin\\Desktop\\sample3\\example.txt         filesize:0.0                   file1 \n",
      "filename:C:\\Users\\Admin\\Desktop\\sample3\\fileSep.ipynb       filesize:0.0                   file1 \n",
      "filename:C:\\Users\\Admin\\Desktop\\sample3\\image.jpg           filesize:1158.465              file3 \n",
      "filename:C:\\Users\\Admin\\Desktop\\sample3\\jan13.ipynb         filesize:9.761                 file3 \n",
      "filename:C:\\Users\\Admin\\Desktop\\sample3\\jan14.ipynb         filesize:177.63                file3 \n",
      "filename:C:\\Users\\Admin\\Desktop\\sample3\\oops.ipynb          filesize:1.412                 file2 \n",
      "filename:C:\\Users\\Admin\\Desktop\\sample3\\OpSy.ipynb          filesize:7.694                 file3 \n",
      "filename:C:\\Users\\Admin\\Desktop\\sample3\\python1.ipynb       filesize:27.712                file3 \n",
      "filename:C:\\Users\\Admin\\Desktop\\sample3\\python2.ipynb       filesize:13.0                  file3 \n",
      "filename:C:\\Users\\Admin\\Desktop\\sample3\\Python3.ipynb       filesize:7.606                 file3 \n",
      "filename:C:\\Users\\Admin\\Desktop\\sample3\\regex.ipynb         filesize:6.159                 file3 \n",
      "filename:C:\\Users\\Admin\\Desktop\\sample3\\Stringsi.ipynb      filesize:0.847                 file1 \n",
      "filename:C:\\Users\\Admin\\Desktop\\sample3\\tees.ipynb          filesize:2.008                 file2 \n",
      "filename:C:\\Users\\Admin\\Desktop\\sample3\\test.ipynb          filesize:1.581                 file2 \n",
      "filename:C:\\Users\\Admin\\Desktop\\sample3\\xyz                 filesize:0.01                  file1 \n",
      "filename:C:\\Users\\Admin\\Desktop\\sample3\\xyz                 filesize:2.096                 file1 \n",
      "filename:C:\\Users\\Admin\\Desktop\\sample3\\xyz                 filesize:3.4                   file1 \n",
      "filename:C:\\Users\\Admin\\Desktop\\sample3\\xyz                 filesize:0.0                   file1 \n"
     ]
    }
   ],
   "source": [
    "folder = \"C:\\\\Users\\\\Admin\\\\Desktop\\\\sample3\"\n",
    "seg_file(folder)"
   ]
  },
  {
   "cell_type": "markdown",
   "metadata": {},
   "source": [
    "#### 19.In the hotel user is entering the details of menu, quantity and printing the bill. number of menu may varies with customer's order \n",
    "\tgenerate a file having grocery bill as per the below format"
   ]
  },
  {
   "cell_type": "code",
   "execution_count": 108,
   "metadata": {},
   "outputs": [],
   "source": [
    "import datetime as dt\n",
    "import random\n",
    "class Hotel():\n",
    "    def __init__(self,**menu):\n",
    "        self.name = input(\"name\")\n",
    "        self.menu=menu\n",
    "        self.total = 0\n",
    "        self.flag = True\n",
    "        self.order = {}\n",
    "        self.bill = ''\n",
    "\n",
    "    def take_order(self):\n",
    "        try:\n",
    "            while self.flag:\n",
    "                a = input(f\"oder from menu:{self.menu}\")\n",
    "                q = int(input(f'how many?'))\n",
    "                self.order[a]=q\n",
    "                self.total +=(self.menu[a]*q)\n",
    "                f = input(\"do you wanna order anything\")\n",
    "                if f.lower()=='yes':\n",
    "                    continue\n",
    "                else:\n",
    "                    break\n",
    "        except:\n",
    "            print(sys.exc_info())\n",
    "\n",
    "    def print_b(self):\n",
    "        print(f\"{\" \":^20} HOTEL {self.name} {\" \":^20}\\n\")\n",
    "        print(f\"{\" \":^20}  {dt.datetime.now().date()} bill_no: {int(random.random()*100)}\\n\")\n",
    "        print(f\"{\"item\":^20}  {\"quantity\":^20} {\"price\":^20}\\n\")\n",
    "        print(f\"{'*'*80}\")\n",
    "        for i in self.order:\n",
    "            print(f\"{i:^20}  {self.order[i]:^20} {self.menu[i]:^20}\\n\")\n",
    "        print(f\"{'*'*80}\")\n",
    "        print(f\"{'Total:':^20}  {'':^20} {self.total:^20}\\n\")\n",
    "        print(f\"{'gst:':^20}  {'':^20} {(self.total*12)/100:^20}\\n\")\n",
    "        "
   ]
  },
  {
   "cell_type": "code",
   "execution_count": 109,
   "metadata": {},
   "outputs": [],
   "source": [
    "menu = {'idli':30,'vada':40,'tea':12,'biscuit':10,'waffers':5}"
   ]
  },
  {
   "cell_type": "code",
   "execution_count": 110,
   "metadata": {},
   "outputs": [
    {
     "name": "stdout",
     "output_type": "stream",
     "text": [
      "                     HOTEL sweet                     \n",
      "\n",
      "                      2025-02-15 bill_no: 73\n",
      "\n",
      "        item                quantity              price        \n",
      "\n",
      "********************************************************************************\n",
      "        vada                   5                    40         \n",
      "\n",
      "********************************************************************************\n",
      "       Total:                                      200         \n",
      "\n",
      "        gst:                                       24.0        \n",
      "\n"
     ]
    }
   ],
   "source": [
    "a = Hotel(**menu)\n",
    "a.take_order()\n",
    "a.order\n",
    "a.print_b()"
   ]
  },
  {
   "cell_type": "markdown",
   "metadata": {},
   "source": [
    "#### 20.Ask user to enter the valid file path and check which word is having more repetition in the file"
   ]
  },
  {
   "cell_type": "code",
   "execution_count": 9,
   "metadata": {},
   "outputs": [
    {
     "name": "stdout",
     "output_type": "stream",
     "text": [
      " ':' = 6 \n"
     ]
    }
   ],
   "source": [
    "import os\n",
    "\n",
    "try:\n",
    "    p= input(\"Please enter a valid file path: \")\n",
    "    f= open(p, 'r') \n",
    "    r= f.read().lower()  \n",
    "    words = r.split()    \n",
    "    c_words= {}\n",
    "\n",
    "    for i in words:\n",
    "        if i in  c_words:\n",
    "             c_words[i] += 1\n",
    "             \n",
    "        else:\n",
    "             c_words[i] = 1\n",
    "\n",
    "    max_fre = 0\n",
    "    max_count = 0\n",
    "    for i, j in c_words.items():\n",
    "        if j > max_count:\n",
    "            max_fre = i\n",
    "            max_count = j\n",
    "\n",
    "    print(f\" '{max_fre}' = {max_count} \")\n",
    "except:\n",
    "    print(\"Invalid file path\")\n"
   ]
  },
  {
   "cell_type": "markdown",
   "metadata": {},
   "source": [
    "#### 21.Create a function which will accept the word and the file path and returns the dictionary as {word: occurances}"
   ]
  },
  {
   "cell_type": "code",
   "execution_count": 25,
   "metadata": {},
   "outputs": [
    {
     "name": "stdout",
     "output_type": "stream",
     "text": [
      "{'Rughwed': 2}\n"
     ]
    }
   ],
   "source": [
    "import os\n",
    "\n",
    "def occ(w,p):\n",
    "    try:\n",
    "        w_dict = {}\n",
    "        f= open(p, 'r') \n",
    "        content = f.read().lower()\n",
    "        words = content.split()\n",
    "        w_dict[word] = words.count(word.lower()) \n",
    "        return w_dict\n",
    "    except:\n",
    "        print(\"error\")\n",
    "\n",
    "file_path = input(\"Please enter the file path: \")\n",
    "word = input(\"Please enter the word to search for: \")\n",
    "\n",
    "result = occ(word, file_path)\n",
    "print(result)\n"
   ]
  },
  {
   "cell_type": "markdown",
   "metadata": {},
   "source": [
    "#### 22.Create a function which will accept one file and returns all occurrences of the word\n",
    "{‘market’ : 3, ‘is’:5, ‘new’:2}"
   ]
  },
  {
   "cell_type": "code",
   "execution_count": 33,
   "metadata": {},
   "outputs": [
    {
     "name": "stdout",
     "output_type": "stream",
     "text": [
      "{'rughwed': 2, 'kini': 1, 'roll': 1, 'no': 1, '58': 1, 'inft': 1, 'department': 1, 'name': 1, ':': 6, 'marks': 2, '71': 1, 'mobile': 2, '1234567890name': 1, 'rushikesh': 1, '70': 1, '1234567890': 1}\n"
     ]
    }
   ],
   "source": [
    "import os\n",
    "\n",
    "def wocc(): \n",
    "    try:\n",
    "        p =input(\"enter the path\")\n",
    "        w_dict = {}\n",
    "        f= open(p, 'r')\n",
    "        content = f.read().lower()    \n",
    "        words = content.split()\n",
    "        for word in words:\n",
    "            if word in w_dict:\n",
    "                w_dict[word] += 1\n",
    "            else:\n",
    "                w_dict[word] = 1\n",
    "        return w_dict\n",
    "    except:\n",
    "        print(\"error\")\n",
    "\n",
    "\n",
    "\n",
    "result = wocc()\n",
    "print(result)\n"
   ]
  },
  {
   "cell_type": "markdown",
   "metadata": {},
   "source": [
    "#### 23.Based on logic mentioned in question number 8 create the class"
   ]
  },
  {
   "cell_type": "code",
   "execution_count": null,
   "metadata": {},
   "outputs": [],
   "source": []
  },
  {
   "cell_type": "markdown",
   "metadata": {},
   "source": [
    "#### 24.Ask user to enter the folder path. Folder may contain more than one file and with different extensions. Read only text file and return the more repetitive word"
   ]
  },
  {
   "cell_type": "code",
   "execution_count": null,
   "metadata": {},
   "outputs": [],
   "source": [
    "def exc_han(fnc):\n",
    "    def wrap(*a, **s):\n",
    "        try:\n",
    "            return fnc(*a, **s)  \n",
    "        except Exception:\n",
    "            print(sys.exc_info()) \n",
    "    return wrap"
   ]
  },
  {
   "cell_type": "code",
   "execution_count": null,
   "metadata": {},
   "outputs": [
    {
     "name": "stdout",
     "output_type": "stream",
     "text": [
      "{'by': 54}\n"
     ]
    }
   ],
   "source": [
    "import os\n",
    "@exc_han\n",
    "def only_txt():\n",
    "    word_count = {}\n",
    "    try:\n",
    "        path = input(\"Please enter the folder path: \")\n",
    "        for i in os.listdir(path):\n",
    "            f_p = os.path.join(path, i)\n",
    "\n",
    "            if i.endswith(\".txt\"):\n",
    "                f = open(f_p, 'r') \n",
    "                content = f.read().lower() \n",
    "                words = content.split()\n",
    "                for word in words:\n",
    "                    if word in word_count:\n",
    "                        word_count[word] += 1\n",
    "                    else:\n",
    "                        word_count[word] = 1\n",
    "        \n",
    "        max_ = max(word_count, key=word_count.get)\n",
    "        count = word_count[max_]\n",
    "        \n",
    "        return {max_:count}\n",
    "    except:\n",
    "        print(\"error\")\n",
    "\n",
    "\n",
    "\n",
    "result = only_txt()\n",
    "print(result)\n"
   ]
  },
  {
   "cell_type": "markdown",
   "metadata": {},
   "source": [
    "#### 25.Create a class for file reading"
   ]
  },
  {
   "cell_type": "code",
   "execution_count": 36,
   "metadata": {},
   "outputs": [
    {
     "name": "stdout",
     "output_type": "stream",
     "text": [
      "Rughwed kini\n",
      "roll no 58\n",
      "inft department\n",
      "\n",
      "Name : Rughwed Marks : 71 Mobile : 1234567890Name : Rushikesh Marks : 70 Mobile : 1234567890\n"
     ]
    }
   ],
   "source": [
    "import os\n",
    "class FileReader:\n",
    "    def __init__(self):\n",
    "        path = input(\"Enter the file path: \")\n",
    "        self.path = path\n",
    "        try:\n",
    "            self.content = self.read_file()\n",
    "        except:\n",
    "            print(\"error in constructor\")\n",
    "\n",
    "    def read_file(self):\n",
    "        try:\n",
    "            f = open(self.path, 'r') \n",
    "            return f.read()\n",
    "        except:\n",
    "            print(\"error\")\n",
    "\n",
    "\n",
    "\n",
    "try:\n",
    "    file_reader = FileReader()\n",
    "    \n",
    "    print(file_reader.read_file())\n",
    "    \n",
    "except FileNotFoundError as e:\n",
    "    print(e)\n"
   ]
  },
  {
   "cell_type": "markdown",
   "metadata": {},
   "source": [
    "#### 26.Create a function which will accept the dictionary. Dictionary may have values any date type format. If values are in integer or float then return respective key"
   ]
  },
  {
   "cell_type": "code",
   "execution_count": 37,
   "metadata": {},
   "outputs": [
    {
     "name": "stdout",
     "output_type": "stream",
     "text": [
      "Keys with numeric values: ['rugved', 'rushil']\n"
     ]
    }
   ],
   "source": [
    "def acc_dict(d1):\n",
    "\n",
    "    n = []\n",
    "    for key, value in d1.items():\n",
    "        if isinstance(value, (int, float)):\n",
    "            n.append(key)\n",
    "    return n\n",
    "\n",
    "\n",
    "result = acc_dict({'rugved':21,\"Rushi\":\"twenty seven\",\"rushil\":12.3})\n",
    "print(f\"Keys with numeric values: {result}\")\n"
   ]
  },
  {
   "cell_type": "markdown",
   "metadata": {},
   "source": [
    "#### 27.Create one decorator having exception logic inside it and create another function which will refer to the decorator in case of errors\n",
    "e.g  val_name is the function validating name but customized error should be thrown from decorator"
   ]
  },
  {
   "cell_type": "code",
   "execution_count": 48,
   "metadata": {},
   "outputs": [],
   "source": [
    "def exc_han(fnc):\n",
    "    def wrap(*a, **s):\n",
    "        try:\n",
    "            return fnc(*a, **s)\n",
    "        except Exception as e:\n",
    "            print(f\"Error: {e}\")  \n",
    "    return wrap\n",
    "\n",
    "@exc_han\n",
    "def val_name():\n",
    "    name = input(\"enter the name\")\n",
    "    if name.isalpha():\n",
    "        return \"valid\"\n",
    "    else:\n",
    "        raise Exception(\"Not a valid name\")\n"
   ]
  },
  {
   "cell_type": "code",
   "execution_count": 49,
   "metadata": {},
   "outputs": [
    {
     "name": "stdout",
     "output_type": "stream",
     "text": [
      "Error: Not a valid name\n"
     ]
    }
   ],
   "source": [
    "val_name()"
   ]
  },
  {
   "cell_type": "markdown",
   "metadata": {},
   "source": [
    "#### 28.Create a class User.  User will be instantiated based on key available in the dictionary. If dictionary is not having the key then generate error. If dictionary is having the key then display values against the same."
   ]
  },
  {
   "cell_type": "code",
   "execution_count": 45,
   "metadata": {},
   "outputs": [
    {
     "name": "stdout",
     "output_type": "stream",
     "text": [
      "two : pam\n"
     ]
    }
   ],
   "source": [
    "\n",
    "class User:\n",
    "    def __init__(self, d1):\n",
    "        try:\n",
    "            i= input(f\"enter from {d1.keys()} \")\n",
    "            if i  in d1:\n",
    "                self.key = i\n",
    "                self.value = d1[i]\n",
    "            else:\n",
    "                raise Exception(f\"Error: '{i}' key not found \")\n",
    "        except Exception as e:\n",
    "            print(e)\n",
    "\n",
    "    def display(self):\n",
    "        print(f\"{self.key} : {self.value}\")\n",
    "\n",
    "\n",
    "    user = User({\"one\":\"jim\",\"two\":\"pam\",\"three\":\"dwight\"})\n",
    "    user.display()\n",
    "\n"
   ]
  },
  {
   "cell_type": "markdown",
   "metadata": {},
   "source": [
    "#### 29.Create a class pharma. One user A will enter the medicine name and price.  Another user B will generate the bill based on entry done by the first user"
   ]
  },
  {
   "cell_type": "code",
   "execution_count": 111,
   "metadata": {},
   "outputs": [],
   "source": [
    "@exc_han\n",
    "def valid_name():\n",
    " \n",
    "    while True:\n",
    "        a = input('Enter the name')\n",
    "        if a.isalpha():\n",
    "            return a.title()\n",
    "        else:\n",
    "            continue\n",
    "@exc_han\n",
    "def passw():\n",
    "     while True:\n",
    "        a = input('Enter the Password')\n",
    "        if re.fullmatch(r'(?=.*[A-z])(?=.*[a-z])(?=.*[0-9])(?=.*[!@#$%^&*])[A-za-z0-9!@#$%^&*()]{8,}',a):\n",
    "            return a\n",
    "        else:\n",
    "            continue"
   ]
  },
  {
   "cell_type": "code",
   "execution_count": 112,
   "metadata": {},
   "outputs": [],
   "source": [
    "class pahrma_entry:\n",
    "    @exc_han\n",
    "    def __init__(self):\n",
    "        self.name=valid_name()\n",
    "        self.__pass =passw()\n",
    "        self.inv = {}\n",
    "        self.total = 0\n",
    "    @exc_han\n",
    "    def enter(self):\n",
    "        while True:\n",
    "            a = input(\"medicinr name\")\n",
    "            b = int(input(\"price\"))\n",
    "            self.total +=b\n",
    "            self.inv[a]=b\n",
    "            c = input(\"for continue type yes\")\n",
    "            if c==\"yes\":\n",
    "                continue\n",
    "            else:\n",
    "                break\n",
    "\n",
    "class pharma_bill:\n",
    "    @exc_han\n",
    "    def __init__(self):\n",
    "        self.name=valid_name()\n",
    "        self.__pass =passw()\n",
    "    \n",
    "    def print(self,obj):\n",
    "        print(f\"{\" \":^20}  {dt.datetime.now().date()} bill_no: {int(random.random()*100)}\\n\")\n",
    "        print(f\"{\"item\":^20}  {\"price\":^20}\\n\")\n",
    "        print(f\"{'*'*50}\")\n",
    "        for i in obj.inv:\n",
    "            print(f\"{i:^20}  {obj.inv[i]:^20}\")\n",
    "        print(f\"{'*'*50}\")\n",
    "        print(f\"{'Total:':^20} {obj.total:^20}\\n\")\n",
    "       \n",
    "    \n",
    "\n",
    "\n",
    "            \n",
    "            \n"
   ]
  },
  {
   "cell_type": "code",
   "execution_count": 113,
   "metadata": {},
   "outputs": [],
   "source": [
    "a =pahrma_entry()"
   ]
  },
  {
   "cell_type": "code",
   "execution_count": 114,
   "metadata": {},
   "outputs": [],
   "source": [
    "a.enter()"
   ]
  },
  {
   "cell_type": "code",
   "execution_count": 115,
   "metadata": {},
   "outputs": [],
   "source": [
    "b = pharma_bill()"
   ]
  },
  {
   "cell_type": "code",
   "execution_count": 116,
   "metadata": {},
   "outputs": [
    {
     "name": "stdout",
     "output_type": "stream",
     "text": [
      "                      2025-02-15 bill_no: 57\n",
      "\n",
      "        item                 price        \n",
      "\n",
      "**************************************************\n",
      "       vicks                   30         \n",
      "        dolo                   40         \n",
      "**************************************************\n",
      "       Total:                 70         \n",
      "\n"
     ]
    }
   ],
   "source": [
    "b.print(a)"
   ]
  },
  {
   "cell_type": "markdown",
   "metadata": {},
   "source": [
    "#### 30.Read the file if the file contains number, then return the dictionary based on position and values of the number.\n",
    "For example: \n",
    "31.Create a class for file reading file if the file contains number, then return the dictionary based on user object, having sub dictionary position and values of the number against that user file."
   ]
  },
  {
   "cell_type": "code",
   "execution_count": 82,
   "metadata": {},
   "outputs": [],
   "source": [
    "import os\n",
    "\n",
    "class FileReader:\n",
    "    @exc_han\n",
    "    def __init__(self):\n",
    "        self.path= input(\"file path\")\n",
    "        self.user = input(\"username\")\n",
    "        self.data = {}\n",
    "\n",
    "    def read_file(self):\n",
    "        f = open(self.path, 'r')\n",
    "        r = f.read()\n",
    "        no = {}\n",
    "        words = r.split()\n",
    "        index = 0\n",
    "        for word in words:\n",
    "            if word.isdigit():\n",
    "                no[index] = int(word)\n",
    "            index += 1\n",
    "        \n",
    "        self.data[self.user] = {\"keys\": no}\n",
    "\n",
    "\n",
    "\n"
   ]
  },
  {
   "cell_type": "code",
   "execution_count": 83,
   "metadata": {},
   "outputs": [],
   "source": [
    "a = FileReader()"
   ]
  },
  {
   "cell_type": "code",
   "execution_count": 84,
   "metadata": {},
   "outputs": [],
   "source": [
    "a.read_file()"
   ]
  },
  {
   "cell_type": "code",
   "execution_count": 85,
   "metadata": {},
   "outputs": [
    {
     "data": {
      "text/plain": [
       "{'Rushil': {'keys': {4: 58, 12: 71, 20: 70, 23: 1234567890}}}"
      ]
     },
     "execution_count": 85,
     "metadata": {},
     "output_type": "execute_result"
    }
   ],
   "source": [
    "a.data"
   ]
  },
  {
   "cell_type": "markdown",
   "metadata": {},
   "source": [
    "#### 32.In hotel booking portal, user will enter pan card name and mobile number, store the same information into dictionary after successful booking user will get confirmation number. "
   ]
  },
  {
   "cell_type": "code",
   "execution_count": null,
   "metadata": {},
   "outputs": [
    {
     "data": {
      "text/plain": [
       "1802"
      ]
     },
     "execution_count": 8,
     "metadata": {},
     "output_type": "execute_result"
    }
   ],
   "source": [
    "import random\n",
    "int(random.random()*10000)\n",
    "import sys"
   ]
  },
  {
   "cell_type": "code",
   "execution_count": 31,
   "metadata": {},
   "outputs": [],
   "source": [
    "def exc_han(fnc):\n",
    "    def wrap(*a, **s):\n",
    "        try:\n",
    "            return fnc(*a, **s)  \n",
    "        except Exception:\n",
    "            print(sys.exc_info()) \n",
    "    return wrap"
   ]
  },
  {
   "cell_type": "code",
   "execution_count": 32,
   "metadata": {},
   "outputs": [],
   "source": [
    "import random\n",
    "import re\n",
    "\n",
    "class hotel:\n",
    "    hotel_reg = {}\n",
    "    @exc_han\n",
    "    def __init__(self):\n",
    "        self.isbook = False\n",
    "        self.cfn_no = None\n",
    "  \n",
    "    @exc_han\n",
    "    def book_room(self):\n",
    "        self.pan = input(\"Enter valid pan card details\")\n",
    "        self.mobile = input(\"enter Mobile number\")\n",
    "        if re.fullmatch(\"[A-Z]{5}[0-9]{4}[A-Z]{1}\",self.pan) and self.mobile.isnumeric and len(self.mobile)==10:\n",
    "            self.isbook = True\n",
    "            self.cfn_no = int(random.random()*10000)\n",
    "            self.hotel_reg[f\"{self.cfn_no}\"]=[(f\"{self.pan}\"),(f\"{self.mobile}\")]\n",
    "            print(\"successfully booked\")\n",
    "        else:\n",
    "            print(\"giver proper input\")\n",
    "    \n",
    "\n",
    "        "
   ]
  },
  {
   "cell_type": "code",
   "execution_count": 33,
   "metadata": {},
   "outputs": [],
   "source": [
    "c1 = hotel()"
   ]
  },
  {
   "cell_type": "code",
   "execution_count": 35,
   "metadata": {},
   "outputs": [
    {
     "name": "stdout",
     "output_type": "stream",
     "text": [
      "giver proper input\n"
     ]
    }
   ],
   "source": [
    "c1.book_room()"
   ]
  },
  {
   "cell_type": "code",
   "execution_count": 20,
   "metadata": {},
   "outputs": [],
   "source": [
    "c2 = hotel()"
   ]
  },
  {
   "cell_type": "code",
   "execution_count": 22,
   "metadata": {},
   "outputs": [],
   "source": [
    "c2.book_room()"
   ]
  },
  {
   "cell_type": "code",
   "execution_count": 24,
   "metadata": {},
   "outputs": [
    {
     "data": {
      "text/plain": [
       "{'3614': ['AAAAA1234A', '1234567890'], '4168': ['AAAAA0987A', '0987654321']}"
      ]
     },
     "execution_count": 24,
     "metadata": {},
     "output_type": "execute_result"
    }
   ],
   "source": [
    "hotel.hotel_reg"
   ]
  },
  {
   "cell_type": "markdown",
   "metadata": {},
   "source": [
    "#### 33.Create a super class user. Having methods register, sing in, sign out.    Super class can be inherited by student, professor, admin\n",
    "\n",
    "Admin and students can view the marks and professor can enter the marks\n",
    "But marks can be visible to students on the given result date"
   ]
  },
  {
   "cell_type": "code",
   "execution_count": 63,
   "metadata": {},
   "outputs": [],
   "source": [
    "def exc_han(fnc):\n",
    "    def wrap(*a, **s):\n",
    "        try:\n",
    "            return fnc(*a, **s)  \n",
    "        except Exception:\n",
    "            print(sys.exc_info()) \n",
    "    return wrap"
   ]
  },
  {
   "cell_type": "code",
   "execution_count": null,
   "metadata": {},
   "outputs": [],
   "source": [
    "import datetime\n",
    "\n",
    "class User:\n",
    "    @exc_han\n",
    "    def __init__(self):\n",
    "        self.name = input(\"name\")\n",
    "        self.email = input(\"email\")\n",
    "        self.islog= False\n",
    "        print(f\"{self.name} registered successfully\")\n",
    "    \n",
    "    @exc_han\n",
    "    def loggin(self):\n",
    "        self.islog = True\n",
    "        print(f\"{self.name} logged in\")\n",
    "    @exc_han\n",
    "    def sign_out(self):\n",
    "        if self.islog:\n",
    "            self.islog = False\n",
    "            print(f\"{self.name} logout.\")\n",
    "        else:\n",
    "            print(\"loggin first\")\n",
    "        \n",
    "\n",
    "class Professor(User):\n",
    "    @exc_han\n",
    "    def __init__(self):\n",
    "        super().__init__()\n",
    "\n",
    "\n",
    "    @exc_han\n",
    "    def enter_marks(self,sobj):\n",
    "        if self.islog:\n",
    "            sobj.marks = input(f\"give marks for {sobj.name}\")\n",
    "        else:\n",
    "            print(\"loggin first\")\n",
    "        \n",
    "        \n",
    "class Student(User):\n",
    "    @exc_han\n",
    "    def __init__(self):\n",
    "        super().__init__()\n",
    "        self.result_date = datetime.datetime.strptime(input(\"date in format dd-mm-yyyy\"),\"%d-%m-%Y\")  #input(\"date in format dd-mm-yyyy\")\n",
    "        self.marks = 0\n",
    "\n",
    "    @exc_han\n",
    "    def view_marks(self):\n",
    "        if self.islog:\n",
    "            if datetime.datetime.now().date() == self.result_date:\n",
    "                    print(f\"{self.name}'s Marks: {self.marks}\")\n",
    "            else:\n",
    "                print(f\"come n result day\")\n",
    "        else:\n",
    "            print(\"loggin first\")\n",
    "        \n",
    "\n",
    "\n",
    "\n",
    "\n",
    "        "
   ]
  },
  {
   "cell_type": "code",
   "execution_count": null,
   "metadata": {},
   "outputs": [],
   "source": [
    "class Admin(User):\n",
    "    @exc_han\n",
    "    def __init__(self):\n",
    "        super().__init__()\n",
    "        \n",
    "    @exc_han\n",
    "    def view_marks(self, sobj):\n",
    "        if self.islog:\n",
    "            print(f\"{sobj.name} got {sobj.marks}\")\n",
    "        else:\n",
    "            print(\"loggin first\")\n",
    "        "
   ]
  },
  {
   "cell_type": "code",
   "execution_count": 55,
   "metadata": {},
   "outputs": [
    {
     "name": "stdout",
     "output_type": "stream",
     "text": [
      "Rughwed registered successfully\n"
     ]
    }
   ],
   "source": [
    "e1 = Student()"
   ]
  },
  {
   "cell_type": "code",
   "execution_count": 56,
   "metadata": {},
   "outputs": [
    {
     "name": "stdout",
     "output_type": "stream",
     "text": [
      "come n result day\n"
     ]
    }
   ],
   "source": [
    "e1.view_marks()"
   ]
  },
  {
   "cell_type": "code",
   "execution_count": 57,
   "metadata": {},
   "outputs": [
    {
     "name": "stdout",
     "output_type": "stream",
     "text": [
      "bina registered successfully\n"
     ]
    }
   ],
   "source": [
    "p1 = Professor()"
   ]
  },
  {
   "cell_type": "code",
   "execution_count": 58,
   "metadata": {},
   "outputs": [],
   "source": [
    "p1.enter_marks(e1)"
   ]
  },
  {
   "cell_type": "code",
   "execution_count": 61,
   "metadata": {},
   "outputs": [
    {
     "name": "stdout",
     "output_type": "stream",
     "text": [
      "Admin registered successfully\n"
     ]
    }
   ],
   "source": [
    "a1= Admin()"
   ]
  },
  {
   "cell_type": "code",
   "execution_count": 62,
   "metadata": {},
   "outputs": [
    {
     "name": "stdout",
     "output_type": "stream",
     "text": [
      "Rughwed got 77\n"
     ]
    }
   ],
   "source": [
    "a1.view_marks(e1)"
   ]
  },
  {
   "cell_type": "markdown",
   "metadata": {},
   "source": [
    "#### 34.Create suitable classes, methods and attributes for resume exchange. Employee to upload the file and the same file is visible to employer "
   ]
  },
  {
   "cell_type": "code",
   "execution_count": 7,
   "metadata": {},
   "outputs": [],
   "source": [
    "import shutil\n",
    "import sys\n",
    "import re\n",
    "import logging"
   ]
  },
  {
   "cell_type": "code",
   "execution_count": 8,
   "metadata": {},
   "outputs": [],
   "source": [
    "def exc_han(fnc):\n",
    "    def wrap(*a, **s):\n",
    "        try:\n",
    "            return fnc(*a, **s)  \n",
    "        except Exception:\n",
    "            print(sys.exc_info()) \n",
    "    return wrap"
   ]
  },
  {
   "cell_type": "code",
   "execution_count": 9,
   "metadata": {},
   "outputs": [],
   "source": [
    "@exc_han\n",
    "def valid_name():\n",
    " \n",
    "    while True:\n",
    "        a = input('Enter the name')\n",
    "        if a.isalpha():\n",
    "            return a.title()\n",
    "        else:\n",
    "            continue\n",
    "@exc_han\n",
    "def passw():\n",
    "     while True:\n",
    "        a = input('Enter the Password')\n",
    "        if re.fullmatch(r'(?=.*[A-z])(?=.*[a-z])(?=.*[0-9])(?=.*[!@#$%^&*])[A-za-z0-9!@#$%^&*()]{8,}',a):\n",
    "            return a\n",
    "        else:\n",
    "            continue"
   ]
  },
  {
   "cell_type": "code",
   "execution_count": null,
   "metadata": {},
   "outputs": [],
   "source": [
    "class Naukri:\n",
    "    @exc_han\n",
    "    def __init__(self):\n",
    "        self.name=valid_name()\n",
    "        self.__pass =passw()\n",
    "        self.dir = r'C:\\Users\\Admin\\Desktop\\naukri'\n",
    "        self.islog = False\n",
    "        logging.basicConfig(level=logging.DEBUG)\n",
    "    \n",
    "        \n",
    "        self.debu = logging.getLogger(f'{self.name}')\n",
    "        x = logging.FileHandler(f'{self.name}')\n",
    "        x.setLevel(logging.DEBUG)\n",
    "        self.debu.addHandler(x)\n",
    "\n",
    "    @exc_han\n",
    "    def log(self):\n",
    "        a = input(\"enter the name\")\n",
    "        b = input('enter the password')\n",
    "        if a==self.name:\n",
    "            if b==self.__pass:\n",
    "                self.islog=True\n",
    "                self.debu.info(f'{self.name} successfully loggedin')\n",
    "            else:\n",
    "                print(\"wrong password\")\n",
    "                self.debu.critical(\"wrong password detected\")\n",
    "        else:\n",
    "            print(\"wrong name\")\n",
    "            self.debu.critical(\"wrong username\")"
   ]
  },
  {
   "cell_type": "code",
   "execution_count": null,
   "metadata": {},
   "outputs": [
    {
     "name": "stderr",
     "output_type": "stream",
     "text": [
      "<string>:15: SyntaxWarning: invalid escape sequence '\\{'\n",
      "<>:15: SyntaxWarning: invalid escape sequence '\\{'\n",
      "<string>:15: SyntaxWarning: invalid escape sequence '\\{'\n",
      "<>:15: SyntaxWarning: invalid escape sequence '\\{'\n",
      "C:\\Users\\Admin\\AppData\\Local\\Temp\\ipykernel_18812\\2792605044.py:15: SyntaxWarning: invalid escape sequence '\\{'\n",
      "  self.file = f'{self.dir}\\{self.isdoc}'\n"
     ]
    }
   ],
   "source": [
    "class employe(Naukri):\n",
    "    @exc_han\n",
    "    def __init__(self):\n",
    "         super().__init__()\n",
    "         self.debu.info(f\"{self.name} successfully Registered\")\n",
    "\n",
    "    @exc_han\n",
    "    def upl(self):\n",
    "        if self.islog:\n",
    "            try:\n",
    "                self.isdoc = input(\"file.name\")+'.DOCX'\n",
    "                open(self.isdoc,'w')\n",
    "                shutil.copy(self.isdoc,self.dir)\n",
    "                self.debu.info(f'{self.isdoc} successfully uploaded')\n",
    "                self.file = f'{self.dir}\\{self.isdoc}'\n",
    "                print(rf'{self.file}','\\nupload ur resume here')\n",
    "\n",
    "            except:\n",
    "                self.debu.error(sys.exc_info())\n",
    "        else:\n",
    "            print(\"user not loggedin\")\n",
    "\n",
    "\n",
    "            "
   ]
  },
  {
   "cell_type": "code",
   "execution_count": 12,
   "metadata": {},
   "outputs": [],
   "source": [
    "class employer(Naukri):\n",
    "    @exc_han\n",
    "    def __init__(self):\n",
    "        super().__init__()\n",
    "        self.debu.info(f\"{self.name} successfully Registered\")\n",
    "\n",
    "    @exc_han\n",
    "    def task(self,obj):\n",
    "          if self.islog:\n",
    "            try:\n",
    "                print(rf'{obj.file}')\n",
    "                self.debu.info(f\"viewing the resume of {obj.name}\")\n",
    "               \n",
    "\n",
    "            except:\n",
    "                self.debu.error(sys.exc_info())\n",
    "          else:\n",
    "            print(\"user not loggedin\")\n",
    "            "
   ]
  },
  {
   "cell_type": "markdown",
   "metadata": {},
   "source": [
    "35.Perform the database connectivity and save all employee details in the database \n",
    "Like name, mobile, address\n",
    "\n",
    "Create the proper class with methods like user information, calculate the salary, apply for the leave, view leaves, approve leaves. Records for leave application should be stored in dummy table (temporary view). Once the leave is approved then it should move to permanent table."
   ]
  },
  {
   "cell_type": "code",
   "execution_count": 52,
   "metadata": {},
   "outputs": [],
   "source": [
    "import pyodbc"
   ]
  },
  {
   "cell_type": "code",
   "execution_count": null,
   "metadata": {},
   "outputs": [],
   "source": [
    "try:\n",
    "    conn = pyodbc.connect('Driver={SQL Server};'\n",
    "                r'Server=DESKTOP-RE2Q22H\\MSSQLSERVER01;'\n",
    "                'Database=new;'\n",
    "                'Trusted_Connection=yes;')\n",
    "except:\n",
    "    print(\"errror in connection\")"
   ]
  },
  {
   "cell_type": "code",
   "execution_count": 54,
   "metadata": {},
   "outputs": [],
   "source": [
    "cursor = conn.cursor()\n"
   ]
  },
  {
   "cell_type": "code",
   "execution_count": 74,
   "metadata": {},
   "outputs": [],
   "source": [
    "class office:\n",
    "    @exc_han\n",
    "    def __init__(self):\n",
    "        self.name = input(\"employee name\")\n",
    "        self.salary=int(input(\"enter salary\"))\n",
    "        self.iapl = False\n",
    "        self.leave = 0\n",
    "        cursor.execute(f\"insert into leave.emp values ('{self.name}','{self.salary}')\")\n",
    "        cursor.commit()\n",
    "    \n",
    "    \n",
    "class employee(office):\n",
    "    @exc_han\n",
    "    def __init__(self):\n",
    "        super().__init__()\n",
    "    @exc_han\n",
    "    def apply_leave(self):\n",
    "        temp = int(input(\"no of days\"))\n",
    "        self.isapl = True\n",
    "        self.leave = self.leave + temp\n",
    "        cursor.execute(f\"create view {self.name} as(select * from leave.emp where name = '{self.name}')\")\n",
    "        cursor.commit()\n",
    "\n",
    "    @exc_han\n",
    "    def approve_leave(self):\n",
    "        if self.isapl:\n",
    "            \n",
    "            cursor.execute(f\"insert into leave.leaves values('{self.name}',{self.salary},{self.leave})\")\n",
    "            cursor.commit()\n",
    "            print(f\"leaves approved for {self.name} : {self.leave}\")\n",
    "        else:\n",
    "            print(\"apply first\")\n",
    "        \n",
    "        \n",
    "\n"
   ]
  },
  {
   "cell_type": "code",
   "execution_count": null,
   "metadata": {},
   "outputs": [],
   "source": []
  }
 ],
 "metadata": {
  "kernelspec": {
   "display_name": "base",
   "language": "python",
   "name": "python3"
  },
  "language_info": {
   "codemirror_mode": {
    "name": "ipython",
    "version": 3
   },
   "file_extension": ".py",
   "mimetype": "text/x-python",
   "name": "python",
   "nbconvert_exporter": "python",
   "pygments_lexer": "ipython3",
   "version": "3.12.7"
  }
 },
 "nbformat": 4,
 "nbformat_minor": 2
}
