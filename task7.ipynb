{
 "cells": [
  {
   "cell_type": "code",
   "execution_count": null,
   "metadata": {},
   "outputs": [],
   "source": [
    "import os\n",
    "import shutil\n",
    "\n",
    "try:\n",
    "    print('Initiating File Copying Process...')\n",
    "    source_dir = r'C:\\Users\\HP\\Desktop\\bizmetric\\Test'\n",
    "    dest_dir_1KB = r'C:\\Users\\HP\\Desktop\\bizmetric\\File_handle\\Less_Than_1KB'\n",
    "    dest_dir_5KB = r'C:\\Users\\HP\\Desktop\\bizmetric\\File_handle\\Less_Than_5KB'\n",
    "    dest_dir_5KB_plus = r'C:\\Users\\HP\\Desktop\\bizmetric\\File_handle\\More_Than_5KB'\n",
    "    \n",
    "    for item in os.listdir(source_dir):\n",
    "        source_file = os.path.join(source_dir, item)\n",
    "        file_size_kb = os.stat(source_file).st_size / 1024\n",
    "        if 0.00 <= file_size_kb <= 1.000:\n",
    "            shutil.copy(source_file, dest_dir_1KB)\n",
    "        elif 1.000 < file_size_kb < 5.000:\n",
    "            shutil.copy(source_file, dest_dir_5KB)\n",
    "        elif file_size_kb >= 5.000:\n",
    "            shutil.copy(source_file, dest_dir_5KB_plus)\n",
    "    print('Files Copied Successfully!')\n",
    "except Exception as error:\n",
    "    print(f'An error occurred: {error}')"
   ]
  }
 ],
 "metadata": {
  "kernelspec": {
   "display_name": "base",
   "language": "python",
   "name": "python3"
  },
  "language_info": {
   "name": "python",
   "version": "3.12.7"
  }
 },
 "nbformat": 4,
 "nbformat_minor": 2
}
