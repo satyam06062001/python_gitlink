{
 "cells": [
  {
   "cell_type": "code",
   "execution_count": 1,
   "metadata": {},
   "outputs": [
    {
     "name": "stdout",
     "output_type": "stream",
     "text": [
      "Enter the number of items:\n",
      "1. Idli - ₹40\n",
      "2. Vada - ₹30\n",
      "3. Poha - ₹20\n",
      "\n",
      "--- Final Receipt ---\n",
      "Dish       Quantity   Price      Total     \n",
      "----------------------------------------\n",
      "Idli       1          40         40        \n",
      "----------------------------------------\n",
      "Grand Total = ₹40\n"
     ]
    }
   ],
   "source": [
    "print(\"Enter the number of items:\")\n",
    "item = int(input())\n",
    "print(\"1. Idli - ₹40\")\n",
    "print(\"2. Vada - ₹30\")\n",
    "print(\"3. Poha - ₹20\")\n",
    "menu = {1: {\"name\": \"Idli\", \"price\": 40},\n",
    "        2: {\"name\": \"Vada\", \"price\": 30},\n",
    "        3: {\"name\": \"Poha\", \"price\": 20}}\n",
    "receipt = []\n",
    " \n",
    "total_amount = 0\n",
    " \n",
    "for i in range(item):\n",
    "    a = int(input(\"Enter the dish number from the menu: \"))\n",
    "    b = int(input(\"Enter quantity: \"))\n",
    "    if a in menu:\n",
    "        dish_name = menu[a][\"name\"]\n",
    "        price = menu[a][\"price\"]\n",
    "        total = b * price\n",
    "        total_amount += total\n",
    "        receipt.append({\"dish\": dish_name, \"quantity\": b, \"price\": price, \"total\": total})\n",
    "    else:\n",
    "        print(\"Invalid dish number, skipping...\")\n",
    "        continue\n",
    "print(\"\\n--- Final Receipt ---\")\n",
    "print(\"{:<10} {:<10} {:<10} {:<10}\".format(\"Dish\", \"Quantity\", \"Price\", \"Total\"))\n",
    "print(\"-\" * 40)\n",
    "for item in receipt:\n",
    "    print(\"{:<10} {:<10} {:<10} {:<10}\".format(item[\"dish\"], item[\"quantity\"], item[\"price\"], item[\"total\"]))\n",
    "print(\"-\" * 40)\n",
    "print(f\"Grand Total = ₹{total_amount}\")"
   ]
  },
  {
   "cell_type": "code",
   "execution_count": null,
   "metadata": {},
   "outputs": [],
   "source": []
  }
 ],
 "metadata": {
  "kernelspec": {
   "display_name": "base",
   "language": "python",
   "name": "python3"
  },
  "language_info": {
   "codemirror_mode": {
    "name": "ipython",
    "version": 3
   },
   "file_extension": ".py",
   "mimetype": "text/x-python",
   "name": "python",
   "nbconvert_exporter": "python",
   "pygments_lexer": "ipython3",
   "version": "3.12.7"
  }
 },
 "nbformat": 4,
 "nbformat_minor": 2
}
