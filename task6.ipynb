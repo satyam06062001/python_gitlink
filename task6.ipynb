{
 "cells": [
  {
   "cell_type": "code",
   "execution_count": 1,
   "metadata": {},
   "outputs": [
    {
     "name": "stdout",
     "output_type": "stream",
     "text": [
      "Your age is: 22 years\n"
     ]
    }
   ],
   "source": [
    "from datetime import datetime\n",
    "def calculate_age(birth_date):\n",
    "    current_date = datetime.now()\n",
    "    age = current_date.year - birth_date.year\n",
    "    if current_date < birth_date.replace(year=current_date.year):\n",
    "        age -= 1\n",
    "    return age\n",
    "birth_date_input = input(\"Enter your birthdate (YYYY-MM-DD): \")\n",
    "birth_date = datetime.strptime(birth_date_input, \"%Y-%m-%d\")\n",
    "age = calculate_age(birth_date)\n",
    "print(f\"Your age is: {age} years\")\n"
   ]
  },
  {
   "cell_type": "code",
   "execution_count": null,
   "metadata": {},
   "outputs": [],
   "source": []
  }
 ],
 "metadata": {
  "kernelspec": {
   "display_name": "base",
   "language": "python",
   "name": "python3"
  },
  "language_info": {
   "codemirror_mode": {
    "name": "ipython",
    "version": 3
   },
   "file_extension": ".py",
   "mimetype": "text/x-python",
   "name": "python",
   "nbconvert_exporter": "python",
   "pygments_lexer": "ipython3",
   "version": "3.12.7"
  }
 },
 "nbformat": 4,
 "nbformat_minor": 2
}
