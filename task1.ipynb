{
 "cells": [
  {
   "cell_type": "code",
   "execution_count": 1,
   "metadata": {},
   "outputs": [
    {
     "name": "stdout",
     "output_type": "stream",
     "text": [
      "The values you entered are: ['12', '23', 'dd', 'ff', 'yy']\n",
      "digit list:\n",
      "['12', '23']\n",
      "non-digit\n",
      "['dd', 'ff', 'yy']\n"
     ]
    }
   ],
   "source": [
    "user_list = []\n",
    "n = int(input(\"How many values do you want to enter? \"))\n",
    "for i in range(n):\n",
    "    value = input(f\"Enter value {i+1}: \")\n",
    "    user_list.append(value)\n",
    "print(\"The values you entered are:\", user_list)\n",
    "l2=[]\n",
    "l4=[]\n",
    "for i in user_list:\n",
    "    if(i.isdigit()==True):\n",
    "        l2.append(i)\n",
    "    else:\n",
    "        l4.append(i)\n",
    "print(\"digit list:\")\n",
    "print(l2)\n",
    "print(\"non-digit\")\n",
    "print(l4)\n"
   ]
  },
  {
   "cell_type": "code",
   "execution_count": null,
   "metadata": {},
   "outputs": [],
   "source": []
  }
 ],
 "metadata": {
  "kernelspec": {
   "display_name": "base",
   "language": "python",
   "name": "python3"
  },
  "language_info": {
   "codemirror_mode": {
    "name": "ipython",
    "version": 3
   },
   "file_extension": ".py",
   "mimetype": "text/x-python",
   "name": "python",
   "nbconvert_exporter": "python",
   "pygments_lexer": "ipython3",
   "version": "3.12.7"
  }
 },
 "nbformat": 4,
 "nbformat_minor": 2
}
