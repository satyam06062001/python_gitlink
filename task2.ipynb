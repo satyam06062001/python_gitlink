{
 "cells": [
  {
   "cell_type": "code",
   "execution_count": 1,
   "metadata": {},
   "outputs": [
    {
     "name": "stdout",
     "output_type": "stream",
     "text": [
      "Enter start year\n",
      "Enter start date month\n",
      "Enter start date \n",
      "Enter End year\n",
      "Enter End date month\n",
      "Enter End date\n",
      "Enter task for 2023-01-02 00:00:00\n",
      "Enter task for 2023-01-03 00:00:00\n",
      "Enter task for 2023-01-04 00:00:00\n",
      "Enter task for 2023-01-05 00:00:00\n",
      "['2023-01-02-Mon', '2023-01-03-Tue', '2023-01-04-Wed', '2023-01-05-Thu']\n",
      "['dsfsdf', 'fdss', 'fsfdss', 'fsdfds']\n"
     ]
    },
    {
     "data": {
      "text/plain": [
       "{'2023-01-02-Mon': 'dsfsdf',\n",
       " '2023-01-03-Tue': 'fdss',\n",
       " '2023-01-04-Wed': 'fsfdss',\n",
       " '2023-01-05-Thu': 'fsdfds'}"
      ]
     },
     "execution_count": 1,
     "metadata": {},
     "output_type": "execute_result"
    }
   ],
   "source": [
    "from datetime import datetime\n",
    "from datetime import date\n",
    "from datetime import time\n",
    "from datetime import timedelta\n",
    "print(\"Enter start year\")\n",
    "sy=int(input())\n",
    "print(\"Enter start date month\")\n",
    "sm=int(input())\n",
    "print(\"Enter start date \")\n",
    "sd=int(input())\n",
    "print(\"Enter End year\")\n",
    "ey=int(input())\n",
    "print(\"Enter End date month\")\n",
    "em=int(input())\n",
    "print(\"Enter End date\")\n",
    "ed=int(input())\n",
    " \n",
    "all_task = []\n",
    "all_dates =[]\n",
    " \n",
    "start_date=datetime(sy,sm,sd)\n",
    "end_date=datetime(ey,em,ed)\n",
    "current_date = start_date\n",
    "while current_date <= end_date:\n",
    "    if current_date.weekday()<5:\n",
    "        all_dates.append(current_date.strftime('%Y-%m-%d-%a'))\n",
    "        print('Enter task for', current_date)\n",
    "        task=input('enter task for')\n",
    "        all_task.append(task)\n",
    "    current_date += timedelta(days=1)\n",
    "print(all_dates)\n",
    "print(all_task)\n",
    " \n",
    "dict(zip(all_dates, all_task))"
   ]
  },
  {
   "cell_type": "code",
   "execution_count": null,
   "metadata": {},
   "outputs": [],
   "source": [
    "sdf"
   ]
  }
 ],
 "metadata": {
  "kernelspec": {
   "display_name": "base",
   "language": "python",
   "name": "python3"
  },
  "language_info": {
   "codemirror_mode": {
    "name": "ipython",
    "version": 3
   },
   "file_extension": ".py",
   "mimetype": "text/x-python",
   "name": "python",
   "nbconvert_exporter": "python",
   "pygments_lexer": "ipython3",
   "version": "3.12.7"
  }
 },
 "nbformat": 4,
 "nbformat_minor": 2
}
